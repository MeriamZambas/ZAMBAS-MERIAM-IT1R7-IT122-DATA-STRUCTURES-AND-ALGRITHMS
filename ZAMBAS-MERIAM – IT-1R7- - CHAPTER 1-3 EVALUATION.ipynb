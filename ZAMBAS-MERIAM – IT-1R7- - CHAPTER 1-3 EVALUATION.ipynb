{
 "cells": [
  {
   "cell_type": "code",
   "execution_count": 1,
   "id": "common-frequency",
   "metadata": {},
   "outputs": [
    {
     "name": "stdout",
     "output_type": "stream",
     "text": [
      "Discuss your learnings on Chapter 1 time-frame 8:00 - 30:35. Minimum of 200 characters\n",
      "\n",
      "Chapter 1 learnings are the following\n",
      "In this chapter is all about Data Structures and Algorithm, for me Data Structures is how can you structure the data, Data Structures is to organize your data, manage, and storage format enables efficient access and modification for the simple word Data Structures is a collection of data values. Algorithm for me is a process or set of rules to be followed, it is a step by step to solve your problem especially by a computer. I learn that algorithm is a procedure or formula for solving problem. Also, they have a characteristic of Data Structures should be correct to interface, Time complexity, for me is describe the amount of time it takes to run an algorithm and they have also a Space Complexity, is an algorithm that input values of account memory space. Execution Time Cases have example of worst case, Average case, and Best Case. Data Structures and Algorithm is important because through solutions to standard problems in data and gives you an insight into how efficient it is using each one them\n"
     ]
    }
   ],
   "source": [
    "print (\"Discuss your learnings on Chapter 1 time-frame 8:00 - 30:35. Minimum of 200 characters\")\n",
    "print (\"\")\n",
    "print (\"Chapter 1 learnings are the following\")\n",
    "print (\"In this chapter is all about Data Structures and Algorithm, for me Data Structures is how can you structure the data, Data Structures is to organize your data, manage, and storage format enables efficient access and modification for the simple word Data Structures is a collection of data values. Algorithm for me is a process or set of rules to be followed, it is a step by step to solve your problem especially by a computer. I learn that algorithm is a procedure or formula for solving problem. Also, they have a characteristic of Data Structures should be correct to interface, Time complexity, for me is describe the amount of time it takes to run an algorithm and they have also a Space Complexity, is an algorithm that input values of account memory space. Execution Time Cases have example of worst case, Average case, and Best Case. Data Structures and Algorithm is important because through solutions to standard problems in data and gives you an insight into how efficient it is using each one them\")\n"
   ]
  },
  {
   "cell_type": "code",
   "execution_count": 2,
   "id": "excellent-still",
   "metadata": {},
   "outputs": [
    {
     "name": "stdout",
     "output_type": "stream",
     "text": [
      "Discuss your learnings on Chapter 1 time-frame 35:00 - end.\n",
      "\n",
      " It is also teaching you the science of evaluating the efficiency of an algorithm. In Data Structures they have also Application of Data Structures and Algorithm, like Search, Sort, insert update and Delete. Basic Terminology have Data, Data item, elementary item and Entity assigned values, Entity set, Field, Record and File.\n"
     ]
    }
   ],
   "source": [
    "print (\"Discuss your learnings on Chapter 1 time-frame 35:00 - end.\")\n",
    "print (\"\")\n",
    "print (\" It is also teaching you the science of evaluating the efficiency of an algorithm. In Data Structures they have also Application of Data Structures and Algorithm, like Search, Sort, insert update and Delete. Basic Terminology have Data, Data item, elementary item and Entity assigned values, Entity set, Field, Record and File.\")\n"
   ]
  },
  {
   "cell_type": "code",
   "execution_count": 3,
   "id": "injured-beatles",
   "metadata": {},
   "outputs": [
    {
     "name": "stdout",
     "output_type": "stream",
     "text": [
      "Discuss your learnings on Chapter 2 time-frame 5:00 - 9:00.\n",
      "\n",
      "My learning in this Which is Basic concept of Data Structures and Algorithm. The Data’s definition for me is information used usually to calculate, analyze or plan something. Data is should be Atomic, Traceable, Accurate and clear confused. The Data object has identified each object is a distinct individual. Data type us value a variable can hold and the size it is going to occupy the memory. There are two data type which is Built-in data type and derived data type is a data type for which the programming language provides built-in support, there are a built-in data type which is integers, Boolean, floating and character and strings. Derived data type is used to states any variable, the example of this data is list, Array, Stack, and Queue. Basic operation is the frequency of the operation that needs to be performed on the data structure, example Traversing, Searching, Insertion, Sorting and Marching. This basic concept of Data Structures and Algorithm is important to explain the basic terms related to data structure. I have a lot of learning about this chapter, it is easy when you listen.\n"
     ]
    }
   ],
   "source": [
    "print (\"Discuss your learnings on Chapter 2 time-frame 5:00 - 9:00.\")\n",
    "print (\"\")\n",
    "print (\"My learning in this Which is Basic concept of Data Structures and Algorithm. The Data’s definition for me is information used usually to calculate, analyze or plan something. Data is should be Atomic, Traceable, Accurate and clear confused. The Data object has identified each object is a distinct individual. Data type us value a variable can hold and the size it is going to occupy the memory. There are two data type which is Built-in data type and derived data type is a data type for which the programming language provides built-in support, there are a built-in data type which is integers, Boolean, floating and character and strings. Derived data type is used to states any variable, the example of this data is list, Array, Stack, and Queue. Basic operation is the frequency of the operation that needs to be performed on the data structure, example Traversing, Searching, Insertion, Sorting and Marching. This basic concept of Data Structures and Algorithm is important to explain the basic terms related to data structure. I have a lot of learning about this chapter, it is easy when you listen.\")\n"
   ]
  },
  {
   "cell_type": "code",
   "execution_count": 4,
   "id": "limiting-architect",
   "metadata": {},
   "outputs": [
    {
     "name": "stdout",
     "output_type": "stream",
     "text": [
      "Discuss your learnings on Chapter 3 time-frame 3:00 - 18:00. \n",
      "\n",
      "In this topic of Data Structures and Algorithm Arrays, I learned array that can be used to store data of the same data type. An array is a data Structures that contains a group of elements. Array is it used to store a collection of data. Array for me is very needed, because there’s a lot of data and it is more useful to think of an array as a collection of variables of the same type. Array representation has element and Index. Element is each item stored in an array is called an element, and the Index is a map the array value to a stored object. The element index is start from 0, if 10 is the value of your Array you should count from 0,1,2,3,4,5,6,7,8,9 it’s 9 ends because you include the 0 so index starts from 0 and array length is 10, which is 10 elements, for example I want to access 10 and the Index of 10is 3, but each element can access via index. The important of Array is so much efficient, because It’ll allow you to save so much time and energy especially if you were asked to finish a program at a Short amount of time.\n"
     ]
    }
   ],
   "source": [
    "print (\"Discuss your learnings on Chapter 3 time-frame 3:00 - 18:00. \")\n",
    "print (\"\")\n",
    "print (\"In this topic of Data Structures and Algorithm Arrays, I learned array that can be used to store data of the same data type. An array is a data Structures that contains a group of elements. Array is it used to store a collection of data. Array for me is very needed, because there’s a lot of data and it is more useful to think of an array as a collection of variables of the same type. Array representation has element and Index. Element is each item stored in an array is called an element, and the Index is a map the array value to a stored object. The element index is start from 0, if 10 is the value of your Array you should count from 0,1,2,3,4,5,6,7,8,9 it’s 9 ends because you include the 0 so index starts from 0 and array length is 10, which is 10 elements, for example I want to access 10 and the Index of 10is 3, but each element can access via index. The important of Array is so much efficient, because It’ll allow you to save so much time and energy especially if you were asked to finish a program at a Short amount of time.\")\n"
   ]
  },
  {
   "cell_type": "code",
   "execution_count": 5,
   "id": "saving-gender",
   "metadata": {},
   "outputs": [
    {
     "name": "stdout",
     "output_type": "stream",
     "text": [
      "100\n",
      "200\n",
      "300\n",
      "1000\n",
      "400\n"
     ]
    }
   ],
   "source": [
    "\n",
    "from array import*\n",
    "arrayMeriam =array('I',[100,200,300,400,500])\n",
    "arrayMeriam.insert(3,1000)\n",
    "arrayMeriam.remove(500)\n",
    "arrayMeriam [1] = 200\n",
    "for x in arrayMeriam:\n",
    "    print(x)\n"
   ]
  },
  {
   "cell_type": "code",
   "execution_count": null,
   "id": "economic-cemetery",
   "metadata": {},
   "outputs": [],
   "source": []
  }
 ],
 "metadata": {
  "kernelspec": {
   "display_name": "Python 3",
   "language": "python",
   "name": "python3"
  },
  "language_info": {
   "codemirror_mode": {
    "name": "ipython",
    "version": 3
   },
   "file_extension": ".py",
   "mimetype": "text/x-python",
   "name": "python",
   "nbconvert_exporter": "python",
   "pygments_lexer": "ipython3",
   "version": "3.9.2"
  }
 },
 "nbformat": 4,
 "nbformat_minor": 5
}
